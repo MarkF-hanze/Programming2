{
 "cells": [
  {
   "cell_type": "code",
   "execution_count": 5,
   "id": "8b3a2039",
   "metadata": {},
   "outputs": [
    {
     "ename": "ValueError",
     "evalue": "Cannot run multiple SparkContexts at once; existing SparkContext(app=pyspark-shell, master=local[8]) created by __init__ at <ipython-input-2-ff81a32269f4>:3 ",
     "output_type": "error",
     "traceback": [
      "\u001b[0;31m---------------------------------------------------------------------------\u001b[0m",
      "\u001b[0;31mValueError\u001b[0m                                Traceback (most recent call last)",
      "\u001b[0;32m<ipython-input-5-ff81a32269f4>\u001b[0m in \u001b[0;36m<module>\u001b[0;34m\u001b[0m\n\u001b[1;32m      1\u001b[0m \u001b[0;32mimport\u001b[0m \u001b[0mpyspark\u001b[0m\u001b[0;34m\u001b[0m\u001b[0;34m\u001b[0m\u001b[0m\n\u001b[1;32m      2\u001b[0m \u001b[0;32mfrom\u001b[0m \u001b[0mpyspark\u001b[0m \u001b[0;32mimport\u001b[0m \u001b[0mSparkContext\u001b[0m\u001b[0;34m\u001b[0m\u001b[0;34m\u001b[0m\u001b[0m\n\u001b[0;32m----> 3\u001b[0;31m \u001b[0msc\u001b[0m \u001b[0;34m=\u001b[0m \u001b[0mSparkContext\u001b[0m\u001b[0;34m(\u001b[0m\u001b[0;34m'local[8]'\u001b[0m\u001b[0;34m)\u001b[0m\u001b[0;34m\u001b[0m\u001b[0;34m\u001b[0m\u001b[0m\n\u001b[0m",
      "\u001b[0;32m~/anaconda3/envs/pySparkenv/lib/python3.7/site-packages/pyspark/context.py\u001b[0m in \u001b[0;36m__init__\u001b[0;34m(self, master, appName, sparkHome, pyFiles, environment, batchSize, serializer, conf, gateway, jsc, profiler_cls)\u001b[0m\n\u001b[1;32m    113\u001b[0m         \"\"\"\n\u001b[1;32m    114\u001b[0m         \u001b[0mself\u001b[0m\u001b[0;34m.\u001b[0m\u001b[0m_callsite\u001b[0m \u001b[0;34m=\u001b[0m \u001b[0mfirst_spark_call\u001b[0m\u001b[0;34m(\u001b[0m\u001b[0;34m)\u001b[0m \u001b[0;32mor\u001b[0m \u001b[0mCallSite\u001b[0m\u001b[0;34m(\u001b[0m\u001b[0;32mNone\u001b[0m\u001b[0;34m,\u001b[0m \u001b[0;32mNone\u001b[0m\u001b[0;34m,\u001b[0m \u001b[0;32mNone\u001b[0m\u001b[0;34m)\u001b[0m\u001b[0;34m\u001b[0m\u001b[0;34m\u001b[0m\u001b[0m\n\u001b[0;32m--> 115\u001b[0;31m         \u001b[0mSparkContext\u001b[0m\u001b[0;34m.\u001b[0m\u001b[0m_ensure_initialized\u001b[0m\u001b[0;34m(\u001b[0m\u001b[0mself\u001b[0m\u001b[0;34m,\u001b[0m \u001b[0mgateway\u001b[0m\u001b[0;34m=\u001b[0m\u001b[0mgateway\u001b[0m\u001b[0;34m,\u001b[0m \u001b[0mconf\u001b[0m\u001b[0;34m=\u001b[0m\u001b[0mconf\u001b[0m\u001b[0;34m)\u001b[0m\u001b[0;34m\u001b[0m\u001b[0;34m\u001b[0m\u001b[0m\n\u001b[0m\u001b[1;32m    116\u001b[0m         \u001b[0;32mtry\u001b[0m\u001b[0;34m:\u001b[0m\u001b[0;34m\u001b[0m\u001b[0;34m\u001b[0m\u001b[0m\n\u001b[1;32m    117\u001b[0m             self._do_init(master, appName, sparkHome, pyFiles, environment, batchSize, serializer,\n",
      "\u001b[0;32m~/anaconda3/envs/pySparkenv/lib/python3.7/site-packages/pyspark/context.py\u001b[0m in \u001b[0;36m_ensure_initialized\u001b[0;34m(cls, instance, gateway, conf)\u001b[0m\n\u001b[1;32m    312\u001b[0m                         \u001b[0;34m\" created by %s at %s:%s \"\u001b[0m\u001b[0;34m\u001b[0m\u001b[0;34m\u001b[0m\u001b[0m\n\u001b[1;32m    313\u001b[0m                         % (currentAppName, currentMaster,\n\u001b[0;32m--> 314\u001b[0;31m                             callsite.function, callsite.file, callsite.linenum))\n\u001b[0m\u001b[1;32m    315\u001b[0m                 \u001b[0;32melse\u001b[0m\u001b[0;34m:\u001b[0m\u001b[0;34m\u001b[0m\u001b[0;34m\u001b[0m\u001b[0m\n\u001b[1;32m    316\u001b[0m                     \u001b[0mSparkContext\u001b[0m\u001b[0;34m.\u001b[0m\u001b[0m_active_spark_context\u001b[0m \u001b[0;34m=\u001b[0m \u001b[0minstance\u001b[0m\u001b[0;34m\u001b[0m\u001b[0;34m\u001b[0m\u001b[0m\n",
      "\u001b[0;31mValueError\u001b[0m: Cannot run multiple SparkContexts at once; existing SparkContext(app=pyspark-shell, master=local[8]) created by __init__ at <ipython-input-2-ff81a32269f4>:3 "
     ]
    }
   ],
   "source": [
    "import pyspark\n",
    "from pyspark import SparkContext\n",
    "sc = SparkContext('local[8]')"
   ]
  },
  {
   "cell_type": "code",
   "execution_count": 6,
   "id": "bec20e7d",
   "metadata": {},
   "outputs": [],
   "source": [
    "url = \"pokemon.csv\"\n",
    "from pyspark import SparkFiles\n",
    "from pyspark.sql import Row\n",
    "from pyspark.sql import SQLContext\n",
    "sc.addFile(url)\n",
    "sqlContext = SQLContext(sc)"
   ]
  },
  {
   "cell_type": "code",
   "execution_count": 8,
   "id": "49669749",
   "metadata": {},
   "outputs": [],
   "source": [
    "df = sqlContext.read.csv(SparkFiles.get(\"pokemon.csv\"), header=True, inferSchema= True)"
   ]
  },
  {
   "cell_type": "code",
   "execution_count": 9,
   "id": "c6730da8",
   "metadata": {},
   "outputs": [
    {
     "name": "stdout",
     "output_type": "stream",
     "text": [
      "root\n",
      " |-- abilities: string (nullable = true)\n",
      " |-- against_bug: double (nullable = true)\n",
      " |-- against_dark: double (nullable = true)\n",
      " |-- against_dragon: double (nullable = true)\n",
      " |-- against_electric: double (nullable = true)\n",
      " |-- against_fairy: double (nullable = true)\n",
      " |-- against_fight: double (nullable = true)\n",
      " |-- against_fire: double (nullable = true)\n",
      " |-- against_flying: double (nullable = true)\n",
      " |-- against_ghost: double (nullable = true)\n",
      " |-- against_grass: double (nullable = true)\n",
      " |-- against_ground: double (nullable = true)\n",
      " |-- against_ice: double (nullable = true)\n",
      " |-- against_normal: double (nullable = true)\n",
      " |-- against_poison: double (nullable = true)\n",
      " |-- against_psychic: double (nullable = true)\n",
      " |-- against_rock: double (nullable = true)\n",
      " |-- against_steel: double (nullable = true)\n",
      " |-- against_water: double (nullable = true)\n",
      " |-- attack: integer (nullable = true)\n",
      " |-- base_egg_steps: integer (nullable = true)\n",
      " |-- base_happiness: integer (nullable = true)\n",
      " |-- base_total: integer (nullable = true)\n",
      " |-- capture_rate: string (nullable = true)\n",
      " |-- classfication: string (nullable = true)\n",
      " |-- defense: integer (nullable = true)\n",
      " |-- experience_growth: integer (nullable = true)\n",
      " |-- height_m: double (nullable = true)\n",
      " |-- hp: integer (nullable = true)\n",
      " |-- japanese_name: string (nullable = true)\n",
      " |-- name: string (nullable = true)\n",
      " |-- percentage_male: double (nullable = true)\n",
      " |-- pokedex_number: integer (nullable = true)\n",
      " |-- sp_attack: integer (nullable = true)\n",
      " |-- sp_defense: integer (nullable = true)\n",
      " |-- speed: integer (nullable = true)\n",
      " |-- type1: string (nullable = true)\n",
      " |-- type2: string (nullable = true)\n",
      " |-- weight_kg: double (nullable = true)\n",
      " |-- generation: integer (nullable = true)\n",
      " |-- is_legendary: integer (nullable = true)\n",
      "\n"
     ]
    }
   ],
   "source": [
    "df.printSchema()"
   ]
  },
  {
   "cell_type": "code",
   "execution_count": 10,
   "id": "0165a458",
   "metadata": {},
   "outputs": [
    {
     "name": "stdout",
     "output_type": "stream",
     "text": [
      "+--------------------+-----------+------------+--------------+----------------+-------------+-------------+------------+--------------+-------------+-------------+--------------+-----------+--------------+--------------+---------------+------------+-------------+-------------+------+--------------+--------------+----------+------------+--------------+-------+-----------------+--------+---+---------------------+----------+---------------+--------------+---------+----------+-----+-----+------+---------+----------+------------+\n",
      "|           abilities|against_bug|against_dark|against_dragon|against_electric|against_fairy|against_fight|against_fire|against_flying|against_ghost|against_grass|against_ground|against_ice|against_normal|against_poison|against_psychic|against_rock|against_steel|against_water|attack|base_egg_steps|base_happiness|base_total|capture_rate| classfication|defense|experience_growth|height_m| hp|        japanese_name|      name|percentage_male|pokedex_number|sp_attack|sp_defense|speed|type1| type2|weight_kg|generation|is_legendary|\n",
      "+--------------------+-----------+------------+--------------+----------------+-------------+-------------+------------+--------------+-------------+-------------+--------------+-----------+--------------+--------------+---------------+------------+-------------+-------------+------+--------------+--------------+----------+------------+--------------+-------+-----------------+--------+---+---------------------+----------+---------------+--------------+---------+----------+-----+-----+------+---------+----------+------------+\n",
      "|['Overgrow', 'Chl...|        1.0|         1.0|           1.0|             0.5|          0.5|          0.5|         2.0|           2.0|          1.0|         0.25|           1.0|        2.0|           1.0|           1.0|            2.0|         1.0|          1.0|          0.5|    49|          5120|            70|       318|          45|  Seed Pokémon|     49|          1059860|     0.7| 45|Fushigidaneフシギダネ| Bulbasaur|           88.1|             1|       65|        65|   45|grass|poison|      6.9|         1|           0|\n",
      "|['Overgrow', 'Chl...|        1.0|         1.0|           1.0|             0.5|          0.5|          0.5|         2.0|           2.0|          1.0|         0.25|           1.0|        2.0|           1.0|           1.0|            2.0|         1.0|          1.0|          0.5|    62|          5120|            70|       405|          45|  Seed Pokémon|     63|          1059860|     1.0| 60| Fushigisouフシギソウ|   Ivysaur|           88.1|             2|       80|        80|   60|grass|poison|     13.0|         1|           0|\n",
      "|['Overgrow', 'Chl...|        1.0|         1.0|           1.0|             0.5|          0.5|          0.5|         2.0|           2.0|          1.0|         0.25|           1.0|        2.0|           1.0|           1.0|            2.0|         1.0|          1.0|          0.5|   100|          5120|            70|       625|          45|  Seed Pokémon|    123|          1059860|     2.0| 80|Fushigibanaフシギバナ|  Venusaur|           88.1|             3|      122|       120|   80|grass|poison|    100.0|         1|           0|\n",
      "|['Blaze', 'Solar ...|        0.5|         1.0|           1.0|             1.0|          0.5|          1.0|         0.5|           1.0|          1.0|          0.5|           2.0|        0.5|           1.0|           1.0|            1.0|         2.0|          0.5|          2.0|    52|          5120|            70|       309|          45|Lizard Pokémon|     43|          1059860|     0.6| 39|     Hitokageヒトカゲ|Charmander|           88.1|             4|       60|        50|   65| fire|  null|      8.5|         1|           0|\n",
      "|['Blaze', 'Solar ...|        0.5|         1.0|           1.0|             1.0|          0.5|          1.0|         0.5|           1.0|          1.0|          0.5|           2.0|        0.5|           1.0|           1.0|            1.0|         2.0|          0.5|          2.0|    64|          5120|            70|       405|          45| Flame Pokémon|     58|          1059860|     1.1| 58|      Lizardoリザード|Charmeleon|           88.1|             5|       80|        65|   80| fire|  null|     19.0|         1|           0|\n",
      "+--------------------+-----------+------------+--------------+----------------+-------------+-------------+------------+--------------+-------------+-------------+--------------+-----------+--------------+--------------+---------------+------------+-------------+-------------+------+--------------+--------------+----------+------------+--------------+-------+-----------------+--------+---+---------------------+----------+---------------+--------------+---------+----------+-----+-----+------+---------+----------+------------+\n",
      "only showing top 5 rows\n",
      "\n"
     ]
    }
   ],
   "source": [
    "df.show(5)"
   ]
  },
  {
   "cell_type": "code",
   "execution_count": 12,
   "id": "8d24c666",
   "metadata": {},
   "outputs": [
    {
     "data": {
      "text/plain": [
       "801"
      ]
     },
     "execution_count": 12,
     "metadata": {},
     "output_type": "execute_result"
    }
   ],
   "source": [
    "df.count()"
   ]
  },
  {
   "cell_type": "code",
   "execution_count": 16,
   "id": "0a3276d6",
   "metadata": {},
   "outputs": [
    {
     "name": "stdout",
     "output_type": "stream",
     "text": [
      "+------+-------+\n",
      "|attack|defense|\n",
      "+------+-------+\n",
      "|    49|     49|\n",
      "|    62|     63|\n",
      "|   100|    123|\n",
      "|    52|     43|\n",
      "|    64|     58|\n",
      "+------+-------+\n",
      "only showing top 5 rows\n",
      "\n"
     ]
    }
   ],
   "source": [
    "df.select('attack', 'defense').show(5)"
   ]
  },
  {
   "cell_type": "code",
   "execution_count": 25,
   "id": "80851e41",
   "metadata": {},
   "outputs": [
    {
     "name": "stdout",
     "output_type": "stream",
     "text": [
      "+--------+-----+\n",
      "|   type1|count|\n",
      "+--------+-----+\n",
      "|   water|  114|\n",
      "|  normal|  105|\n",
      "|   grass|   78|\n",
      "|     bug|   72|\n",
      "| psychic|   53|\n",
      "|    fire|   52|\n",
      "|    rock|   45|\n",
      "|electric|   39|\n",
      "|  ground|   32|\n",
      "|  poison|   32|\n",
      "|    dark|   29|\n",
      "|fighting|   28|\n",
      "|  dragon|   27|\n",
      "|   ghost|   27|\n",
      "|   steel|   24|\n",
      "|     ice|   23|\n",
      "|   fairy|   18|\n",
      "|  flying|    3|\n",
      "+--------+-----+\n",
      "\n"
     ]
    }
   ],
   "source": [
    "# How many are there of each type?\n",
    "df.groupBy(\"type1\").count().sort(\"count\", ascending=False).show()"
   ]
  },
  {
   "cell_type": "code",
   "execution_count": 22,
   "id": "d3bd0f9c",
   "metadata": {},
   "outputs": [
    {
     "name": "stdout",
     "output_type": "stream",
     "text": [
      "+-------+-----------------+\n",
      "|summary|           attack|\n",
      "+-------+-----------------+\n",
      "|  count|              801|\n",
      "|   mean|77.85767790262172|\n",
      "| stddev|32.15882023801748|\n",
      "|    min|                5|\n",
      "|    max|              185|\n",
      "+-------+-----------------+\n",
      "\n"
     ]
    }
   ],
   "source": [
    "df.describe('attack').show()"
   ]
  },
  {
   "cell_type": "code",
   "execution_count": 35,
   "id": "20df2989",
   "metadata": {},
   "outputs": [
    {
     "name": "stdout",
     "output_type": "stream",
     "text": [
      "+----------------+---+---+---+---+---+---+---+\n",
      "|type1_generation|  1|  2|  3|  4|  5|  6|  7|\n",
      "+----------------+---+---+---+---+---+---+---+\n",
      "|             bug| 12| 10| 12|  8| 18|  3|  9|\n",
      "|            dark|  0|  5|  4|  3| 13|  3|  1|\n",
      "|          dragon|  3|  0|  7|  3|  7|  4|  3|\n",
      "|        electric|  9|  6|  4|  7|  7|  3|  3|\n",
      "|           fairy|  2|  5|  0|  1|  0|  9|  1|\n",
      "|        fighting|  7|  2|  4|  2|  7|  3|  3|\n",
      "|            fire| 12|  8|  6|  5|  8|  8|  5|\n",
      "|          flying|  0|  0|  0|  0|  1|  2|  0|\n",
      "|           ghost|  3|  1|  4|  6|  5|  4|  4|\n",
      "|           grass| 12|  9| 12| 13| 15|  5| 12|\n",
      "|          ground|  8|  3|  6|  4|  9|  0|  2|\n",
      "|             ice|  2|  4|  6|  3|  6|  2|  0|\n",
      "|          normal| 22| 15| 18| 17| 17|  4| 12|\n",
      "|          poison| 14|  1|  3|  6|  2|  2|  4|\n",
      "|         psychic|  8|  7|  8|  7| 14|  3|  6|\n",
      "|            rock|  9|  4|  8|  6|  6|  8|  4|\n",
      "|           steel|  0|  2|  9|  3|  4|  4|  2|\n",
      "|           water| 28| 18| 24| 13| 17|  5|  9|\n",
      "+----------------+---+---+---+---+---+---+---+\n",
      "\n"
     ]
    }
   ],
   "source": [
    "# Are there more or less types of each each generation\n",
    "df.crosstab('type1', 'generation').sort('type1_generation').show()"
   ]
  },
  {
   "cell_type": "code",
   "execution_count": 38,
   "id": "a9be05f0",
   "metadata": {},
   "outputs": [
    {
     "data": {
      "text/plain": [
       "169"
      ]
     },
     "execution_count": 38,
     "metadata": {},
     "output_type": "execute_result"
    }
   ],
   "source": [
    "df.filter(df.attack > 100).count()"
   ]
  },
  {
   "cell_type": "code",
   "execution_count": 41,
   "id": "7ab321de",
   "metadata": {},
   "outputs": [
    {
     "name": "stdout",
     "output_type": "stream",
     "text": [
      "+--------+------------------+\n",
      "|   type1|       avg(attack)|\n",
      "+--------+------------------+\n",
      "|  dragon| 106.4074074074074|\n",
      "|fighting| 99.17857142857143|\n",
      "|  ground|           94.8125|\n",
      "|   steel| 93.08333333333333|\n",
      "|    rock| 90.66666666666667|\n",
      "|    dark| 87.79310344827586|\n",
      "|    fire|              81.5|\n",
      "|  normal| 75.16190476190476|\n",
      "|   grass| 73.76923076923077|\n",
      "|   water| 73.30701754385964|\n",
      "|     ice| 73.30434782608695|\n",
      "|   ghost| 72.74074074074075|\n",
      "|  poison|          72.65625|\n",
      "|electric| 70.82051282051282|\n",
      "|     bug|            70.125|\n",
      "|  flying| 66.66666666666667|\n",
      "| psychic| 65.56603773584905|\n",
      "|   fairy|62.111111111111114|\n",
      "+--------+------------------+\n",
      "\n"
     ]
    }
   ],
   "source": [
    "df.groupby('type1').agg({'attack': 'mean'}).sort('avg(attack)', ascending=False).show()"
   ]
  },
  {
   "cell_type": "code",
   "execution_count": 57,
   "id": "7cb97282",
   "metadata": {},
   "outputs": [],
   "source": [
    "from pyspark.sql.functions import *\n",
    "# 1 Select the column\n",
    "#full_attack = df.select(col(\"attack\") + col('sp_attack'))\n",
    "# 2 Apply the transformation and add it to the DataFrame\n",
    "df = df.withColumn(\"full_attack\", col(\"attack\") + col('sp_attack'))"
   ]
  },
  {
   "cell_type": "code",
   "execution_count": 58,
   "id": "68240d05",
   "metadata": {},
   "outputs": [
    {
     "name": "stdout",
     "output_type": "stream",
     "text": [
      "+------+---------+-----------+\n",
      "|attack|sp_attack|full_attack|\n",
      "+------+---------+-----------+\n",
      "|    49|       65|        114|\n",
      "|    62|       80|        142|\n",
      "|   100|      122|        222|\n",
      "|    52|       60|        112|\n",
      "|    64|       80|        144|\n",
      "+------+---------+-----------+\n",
      "only showing top 5 rows\n",
      "\n"
     ]
    }
   ],
   "source": [
    "df.select('attack', 'sp_attack', 'full_attack').show(5)"
   ]
  },
  {
   "cell_type": "code",
   "execution_count": null,
   "id": "4889ce57",
   "metadata": {},
   "outputs": [],
   "source": []
  }
 ],
 "metadata": {
  "kernelspec": {
   "display_name": "Python 3",
   "language": "python",
   "name": "python3"
  },
  "language_info": {
   "codemirror_mode": {
    "name": "ipython",
    "version": 3
   },
   "file_extension": ".py",
   "mimetype": "text/x-python",
   "name": "python",
   "nbconvert_exporter": "python",
   "pygments_lexer": "ipython3",
   "version": "3.7.10"
  }
 },
 "nbformat": 4,
 "nbformat_minor": 5
}
