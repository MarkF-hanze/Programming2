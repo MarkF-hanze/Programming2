{
 "cells": [
  {
   "cell_type": "markdown",
   "metadata": {
    "slideshow": {
     "slide_type": "slide"
    }
   },
   "source": [
    "# Design Patterns\n",
    "\n",
    "## Introduction to Design Patterns\n",
    "### Programming 2 / Master Data Science for the Life Scinces\n",
    "### (c) 2020-2021 Martijn Herber / Stichting Hanzehogeschool Groningen\n",
    "### License: Creative Commons BY-NC-SA 4.0 International"
   ]
  },
  {
   "cell_type": "markdown",
   "metadata": {
    "slideshow": {
     "slide_type": "slide"
    }
   },
   "source": [
    "# Software Design\n",
    "### Software Design is useful;\n",
    "* Re-useability\n",
    "* Maintainability\n",
    "* Reliability\n",
    "### Drawbacks;\n",
    "* Not all designs fit the problem at hand\n",
    "* Can become rigid and dogmatic (\"Architecture Astronauts\")"
   ]
  },
  {
   "cell_type": "markdown",
   "metadata": {
    "slideshow": {
     "slide_type": "slide"
    }
   },
   "source": [
    "# Software Design: Paradigms\n",
    "## ...here we go again with \"paradigms\"\n",
    "### It's not just about _solving_ the problem (algorithm), but _how you write the solution_\n",
    "### There's many ways of organizing software; just in Python we have;\n",
    "1. Scripts (Files)\n",
    "2. Modules (and directories!)\n",
    "3. Functions\n",
    "4. Data Types\n",
    "5. *Classes*\n"
   ]
  },
  {
   "cell_type": "markdown",
   "metadata": {
    "slideshow": {
     "slide_type": "slide"
    }
   },
   "source": [
    "# Class-based Design\n",
    "## Two crucial Concepts\n",
    "### 1. Data Encapsulation\n",
    "You keep your data bound with the methods you apply to it\n",
    "### 2. Separation of Concerns\n",
    "Objects do 1 thing and 1 thing only; interact with each other via _interfaces_"
   ]
  },
  {
   "cell_type": "markdown",
   "metadata": {
    "slideshow": {
     "slide_type": "slide"
    }
   },
   "source": [
    "# Class-based Design: Interfaces\n",
    "## Say what? Inyerfaces?\n",
    "* Interface: a standard way of interacting with an object defined by the class for _other objects_\n",
    "    * I.e. this is for external consumption\n",
    "* Method in Python that this is implemented; _the Method_\n",
    "    * Even if it is through Python syntax sugar!\n",
    "    * I.e. \"dunder\" __methods__\n",
    "* I'm going to assume you know the material on classes from Prog 0!"
   ]
  },
  {
   "cell_type": "markdown",
   "metadata": {
    "slideshow": {
     "slide_type": "slide"
    }
   },
   "source": [
    "# Class-based Design: Interface drawbacks in Python\n",
    "* Note that in Python nothing prevents you from accessing all data and methods in a class!\n",
    "* \"Private\" members of the class are designated with \"_\" or \"__\" prepended\n",
    "* Using only \"official\" interface elements (as documented in e.g. the docstring!) is _convention_\n",
    "* Guiding rule; never access an object's data directly, always use _methods_\n",
    "    * Possible exception: using Python syntax ie. \"[]\", slicing or iteration"
   ]
  },
  {
   "cell_type": "markdown",
   "metadata": {
    "slideshow": {
     "slide_type": "slide"
    }
   },
   "source": [
    "# Back to Design Patterns\n",
    "## \"Common\" wisdom, \"Typical\" Solutions\n",
    "* Design Patterns are nothing more than standard ways of solving problems\n",
    "* Defined in the seminal 1994 book by Gamma, Helm, Johnson, Vlissides (\"Gang of Four\", GoF)\n",
    "* For any object oriented language\n",
    "    * But beware: some patterns are made obsolete by language syntax!\n",
    "* Usually they need to be adapted to your specific use case\n",
    "    * But if that takes too much time maybe you're doing it wrong!"
   ]
  },
  {
   "cell_type": "markdown",
   "metadata": {},
   "source": [
    "# Design Patterns\n",
    "* Major principle is: Don't do Object Orientation, to _Object-Based Programming_\n",
    "* From the GoF book:\n",
    "> Favor object composition over inheritance\n",
    "* I.e. when you have a problem that has several varying parameters, make that multiple objects\n",
    "* **Do not use multiple inheritance **"
   ]
  },
  {
   "cell_type": "markdown",
   "metadata": {
    "slideshow": {
     "slide_type": "slide"
    }
   },
   "source": [
    "# A Design Pattern is a _Recipe_\n",
    "1. Intent: describe what you're trying to solve\n",
    "2. Motivation: why does the pattern solve the problem well?\n",
    "3. Structure: what classes does the pattern consist of, what interfaces?\n",
    "4. Code example"
   ]
  },
  {
   "cell_type": "markdown",
   "metadata": {
    "slideshow": {
     "slide_type": "slide"
    }
   },
   "source": [
    "# Design Patterns: example\n",
    "* Let's take a look at the Python \"logging\" module\n",
    "* How would you design that?\n",
    "* How about:"
   ]
  },
  {
   "cell_type": "code",
   "execution_count": 1,
   "metadata": {
    "slideshow": {
     "slide_type": "fragment"
    }
   },
   "outputs": [],
   "source": [
    "class Logger(object):\n",
    "    def __init__(self, file):\n",
    "        self.file = file\n",
    "\n",
    "    def log(self, message):\n",
    "        self.file.write(message + '\\n')\n",
    "        self.file.flush()"
   ]
  },
  {
   "cell_type": "code",
   "execution_count": 2,
   "metadata": {
    "slideshow": {
     "slide_type": "fragment"
    }
   },
   "outputs": [],
   "source": [
    "class SocketLogger(Logger):\n",
    "    def __init__(self, sock):\n",
    "        self.sock = sock\n",
    "\n",
    "    def log(self, message):\n",
    "        self.sock.sendall((message + '\\n').encode('ascii'))\n",
    "\n",
    "class SyslogLogger(Logger):\n",
    "    def __init__(self, priority):\n",
    "        self.priority = priority\n",
    "\n",
    "    def log(self, message):\n",
    "        syslog.syslog(self.priority, message)"
   ]
  },
  {
   "cell_type": "markdown",
   "metadata": {},
   "source": [
    "### Problem?\n",
    "* What if I want to add functionality like \"filtering\" of messages?\n",
    "    * Indeed this is exactly one of many extra's the `logging` module provides\n",
    "* Here's what that could look like:"
   ]
  },
  {
   "cell_type": "code",
   "execution_count": 3,
   "metadata": {
    "slideshow": {
     "slide_type": "slide"
    }
   },
   "outputs": [
    {
     "ename": "NameError",
     "evalue": "name 'sys' is not defined",
     "output_type": "error",
     "traceback": [
      "\u001b[0;31m---------------------------------------------------------------------------\u001b[0m",
      "\u001b[0;31mNameError\u001b[0m                                 Traceback (most recent call last)",
      "\u001b[0;32m<ipython-input-3-497ccb14cdc8>\u001b[0m in \u001b[0;36m<module>\u001b[0;34m\u001b[0m\n\u001b[1;32m     10\u001b[0m \u001b[0;31m# It works.\u001b[0m\u001b[0;34m\u001b[0m\u001b[0;34m\u001b[0m\u001b[0;34m\u001b[0m\u001b[0m\n\u001b[1;32m     11\u001b[0m \u001b[0;34m\u001b[0m\u001b[0m\n\u001b[0;32m---> 12\u001b[0;31m \u001b[0mf\u001b[0m \u001b[0;34m=\u001b[0m \u001b[0mFilteredLogger\u001b[0m\u001b[0;34m(\u001b[0m\u001b[0;34m'Error'\u001b[0m\u001b[0;34m,\u001b[0m \u001b[0msys\u001b[0m\u001b[0;34m.\u001b[0m\u001b[0mstdout\u001b[0m\u001b[0;34m)\u001b[0m\u001b[0;34m\u001b[0m\u001b[0;34m\u001b[0m\u001b[0m\n\u001b[0m\u001b[1;32m     13\u001b[0m \u001b[0mf\u001b[0m\u001b[0;34m.\u001b[0m\u001b[0mlog\u001b[0m\u001b[0;34m(\u001b[0m\u001b[0;34m'Ignored: this is not important'\u001b[0m\u001b[0;34m)\u001b[0m\u001b[0;34m\u001b[0m\u001b[0;34m\u001b[0m\u001b[0m\n\u001b[1;32m     14\u001b[0m \u001b[0mf\u001b[0m\u001b[0;34m.\u001b[0m\u001b[0mlog\u001b[0m\u001b[0;34m(\u001b[0m\u001b[0;34m'Error: but you want to see this'\u001b[0m\u001b[0;34m)\u001b[0m\u001b[0;34m\u001b[0m\u001b[0;34m\u001b[0m\u001b[0m\n",
      "\u001b[0;31mNameError\u001b[0m: name 'sys' is not defined"
     ]
    }
   ],
   "source": [
    "class FilteredLogger(Logger):\n",
    "    def __init__(self, pattern, file):\n",
    "        self.pattern = pattern\n",
    "        super().__init__(file)\n",
    "\n",
    "    def log(self, message):\n",
    "        if self.pattern in message:\n",
    "            super().log(message)\n",
    "\n",
    "# It works.\n",
    "\n",
    "f = FilteredLogger('Error', sys.stdout)\n",
    "f.log('Ignored: this is not important')\n",
    "f.log('Error: but you want to see this')"
   ]
  },
  {
   "cell_type": "markdown",
   "metadata": {},
   "source": [
    "# So what's the problem again?\n",
    "* What if you wanted to create a `FilteredSocketLogger` ?\n",
    "* Why not create all combinations? \n",
    "1. `Logger`\n",
    "2. `SocketLogger`\n",
    "3. `SyslogLogger`\n",
    "4. `FilteredLogger`\n",
    "5. `FilteredSocketLogger`\n",
    "6. `FilteeredSyslogLogger`\n",
    "* This is what the GoF called \"Subclass Explosion\"\n",
    "* Solution: _object composition_ under the \"Single Responsibility Principle\" or \"Separation of Concerns\""
   ]
  },
  {
   "cell_type": "markdown",
   "metadata": {
    "slideshow": {
     "slide_type": "slide"
    }
   },
   "source": [
    "# Design Pattern Solution: Adapter Pattern\n",
    "* Key insignht: we don't change the already created classes but use an **Adapter** object to wrap them\n",
    "* We do this by offering the right _interfaces_ ie. methods\n",
    "    * Thank $DEITY for Duck Typing!\n",
    "* So in our adapter:\n",
    "1. We keep the Original Logger\n",
    "2. We keep the FilteredLogger\n",
    "3. We adapt each destination to the behavior of a file an then pass this adapter to the `Logger`"
   ]
  },
  {
   "cell_type": "code",
   "execution_count": 4,
   "metadata": {},
   "outputs": [],
   "source": [
    "import socket\n",
    "\n",
    "class FileLikeSocket:\n",
    "    def __init__(self, sock):\n",
    "        self.sock = sock\n",
    "\n",
    "    def write(self, message_and_newline):\n",
    "        self.sock.sendall(message_and_newline.encode('ascii'))\n",
    "\n",
    "    def flush(self):\n",
    "        pass\n",
    "\n",
    "class FileLikeSyslog:\n",
    "    def __init__(self, priority):\n",
    "        self.priority = priority\n",
    "\n",
    "    def write(self, message_and_newline):\n",
    "        message = message_and_newline.rstrip('\\n')\n",
    "        syslog.syslog(self.priority, message)\n",
    "\n",
    "    def flush(self):\n",
    "        pass"
   ]
  },
  {
   "cell_type": "code",
   "execution_count": 5,
   "metadata": {},
   "outputs": [
    {
     "name": "stdout",
     "output_type": "stream",
     "text": [
      "The socket received: b'Error: message number two\\n'\n"
     ]
    }
   ],
   "source": [
    "sock1, sock2 = socket.socketpair()\n",
    "\n",
    "fs = FileLikeSocket(sock1)\n",
    "logger = FilteredLogger('Error', fs)\n",
    "logger.log('Warning: message number one')\n",
    "logger.log('Error: message number two')\n",
    "\n",
    "print('The socket received: %r' % sock2.recv(512))"
   ]
  },
  {
   "cell_type": "markdown",
   "metadata": {},
   "source": [
    "# Phew! Subclass explosion averted!\n",
    "## Just use an adapter patterns to mix and match any source to the logger"
   ]
  },
  {
   "cell_type": "markdown",
   "metadata": {},
   "source": [
    "# Design Patterns: A Zoo of Patterns!\n",
    "* For many of these kinds of problems, a pattern exists.\n",
    "* Broadly divided into 3 classes;\n",
    "    1. Creational Patterns\n",
    "    2. Structural Patterns\n",
    "    3. Behavioral Patterns\n",
    "* Great site: [Refactoring Guru](https://refactoring.guru/design-patterns)"
   ]
  },
  {
   "cell_type": "markdown",
   "metadata": {},
   "source": [
    "# Assignment: Pick a Pattern\n",
    "### Pick a pattern on the \"Refactoring Guru\" website and explain it in class tomorrow!\n",
    "* You don't have to write any code, you can select \"Python\" as the code example\n",
    "* Another great (but a little dated) site is [Bruce Eckels \"Python 3 Patterns, Recipes & Idioms\"](https://python-3-patterns-idioms-test.readthedocs.io/en/latest/index.html)"
   ]
  },
  {
   "cell_type": "code",
   "execution_count": null,
   "metadata": {},
   "outputs": [],
   "source": []
  }
 ],
 "metadata": {
  "celltoolbar": "Slideshow",
  "kernelspec": {
   "display_name": "Python 3",
   "language": "python",
   "name": "python3"
  },
  "language_info": {
   "codemirror_mode": {
    "name": "ipython",
    "version": 3
   },
   "file_extension": ".py",
   "mimetype": "text/x-python",
   "name": "python",
   "nbconvert_exporter": "python",
   "pygments_lexer": "ipython3",
   "version": "3.8.3"
  }
 },
 "nbformat": 4,
 "nbformat_minor": 4
}
