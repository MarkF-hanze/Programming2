{
 "cells": [
  {
   "cell_type": "code",
   "execution_count": 113,
   "id": "8b3a2039",
   "metadata": {},
   "outputs": [],
   "source": [
    "import pyspark\n",
    "from pyspark import SparkContext\n",
    "sc = SparkContext('local[4]')"
   ]
  },
  {
   "cell_type": "markdown",
   "id": "fe5c14ac",
   "metadata": {},
   "source": [
    "# Load data"
   ]
  },
  {
   "cell_type": "code",
   "execution_count": 114,
   "id": "bec20e7d",
   "metadata": {},
   "outputs": [],
   "source": [
    "url = \"pokemon.csv\"\n",
    "from pyspark import SparkFiles\n",
    "from pyspark.sql import Row, SQLContext\n",
    "from pyspark.sql.functions import concat, col, lit\n",
    "sc.addFile(url)\n",
    "sqlContext = SQLContext(sc)"
   ]
  },
  {
   "cell_type": "code",
   "execution_count": 115,
   "id": "49669749",
   "metadata": {},
   "outputs": [],
   "source": [
    "df = sqlContext.read.csv(SparkFiles.get(\"pokemon.csv\"), header=True, inferSchema= True)"
   ]
  },
  {
   "cell_type": "markdown",
   "id": "1564aada",
   "metadata": {},
   "source": [
    "# Data info (2)"
   ]
  },
  {
   "cell_type": "code",
   "execution_count": 116,
   "id": "c6730da8",
   "metadata": {},
   "outputs": [
    {
     "name": "stdout",
     "output_type": "stream",
     "text": [
      "root\n",
      " |-- abilities: string (nullable = true)\n",
      " |-- against_bug: double (nullable = true)\n",
      " |-- against_dark: double (nullable = true)\n",
      " |-- against_dragon: double (nullable = true)\n",
      " |-- against_electric: double (nullable = true)\n",
      " |-- against_fairy: double (nullable = true)\n",
      " |-- against_fight: double (nullable = true)\n",
      " |-- against_fire: double (nullable = true)\n",
      " |-- against_flying: double (nullable = true)\n",
      " |-- against_ghost: double (nullable = true)\n",
      " |-- against_grass: double (nullable = true)\n",
      " |-- against_ground: double (nullable = true)\n",
      " |-- against_ice: double (nullable = true)\n",
      " |-- against_normal: double (nullable = true)\n",
      " |-- against_poison: double (nullable = true)\n",
      " |-- against_psychic: double (nullable = true)\n",
      " |-- against_rock: double (nullable = true)\n",
      " |-- against_steel: double (nullable = true)\n",
      " |-- against_water: double (nullable = true)\n",
      " |-- attack: integer (nullable = true)\n",
      " |-- base_egg_steps: integer (nullable = true)\n",
      " |-- base_happiness: integer (nullable = true)\n",
      " |-- base_total: integer (nullable = true)\n",
      " |-- capture_rate: string (nullable = true)\n",
      " |-- classfication: string (nullable = true)\n",
      " |-- defense: integer (nullable = true)\n",
      " |-- experience_growth: integer (nullable = true)\n",
      " |-- height_m: double (nullable = true)\n",
      " |-- hp: integer (nullable = true)\n",
      " |-- japanese_name: string (nullable = true)\n",
      " |-- name: string (nullable = true)\n",
      " |-- percentage_male: double (nullable = true)\n",
      " |-- pokedex_number: integer (nullable = true)\n",
      " |-- sp_attack: integer (nullable = true)\n",
      " |-- sp_defense: integer (nullable = true)\n",
      " |-- speed: integer (nullable = true)\n",
      " |-- type1: string (nullable = true)\n",
      " |-- type2: string (nullable = true)\n",
      " |-- weight_kg: double (nullable = true)\n",
      " |-- generation: integer (nullable = true)\n",
      " |-- is_legendary: integer (nullable = true)\n",
      "\n"
     ]
    }
   ],
   "source": [
    "df.printSchema()"
   ]
  },
  {
   "cell_type": "code",
   "execution_count": 117,
   "id": "0165a458",
   "metadata": {},
   "outputs": [
    {
     "name": "stdout",
     "output_type": "stream",
     "text": [
      "+--------------------+-----------+------------+--------------+----------------+-------------+-------------+------------+--------------+-------------+-------------+--------------+-----------+--------------+--------------+---------------+------------+-------------+-------------+------+--------------+--------------+----------+------------+--------------+-------+-----------------+--------+---+---------------------+----------+---------------+--------------+---------+----------+-----+-----+------+---------+----------+------------+\n",
      "|           abilities|against_bug|against_dark|against_dragon|against_electric|against_fairy|against_fight|against_fire|against_flying|against_ghost|against_grass|against_ground|against_ice|against_normal|against_poison|against_psychic|against_rock|against_steel|against_water|attack|base_egg_steps|base_happiness|base_total|capture_rate| classfication|defense|experience_growth|height_m| hp|        japanese_name|      name|percentage_male|pokedex_number|sp_attack|sp_defense|speed|type1| type2|weight_kg|generation|is_legendary|\n",
      "+--------------------+-----------+------------+--------------+----------------+-------------+-------------+------------+--------------+-------------+-------------+--------------+-----------+--------------+--------------+---------------+------------+-------------+-------------+------+--------------+--------------+----------+------------+--------------+-------+-----------------+--------+---+---------------------+----------+---------------+--------------+---------+----------+-----+-----+------+---------+----------+------------+\n",
      "|['Overgrow', 'Chl...|        1.0|         1.0|           1.0|             0.5|          0.5|          0.5|         2.0|           2.0|          1.0|         0.25|           1.0|        2.0|           1.0|           1.0|            2.0|         1.0|          1.0|          0.5|    49|          5120|            70|       318|          45|  Seed Pokémon|     49|          1059860|     0.7| 45|Fushigidaneフシギダネ| Bulbasaur|           88.1|             1|       65|        65|   45|grass|poison|      6.9|         1|           0|\n",
      "|['Overgrow', 'Chl...|        1.0|         1.0|           1.0|             0.5|          0.5|          0.5|         2.0|           2.0|          1.0|         0.25|           1.0|        2.0|           1.0|           1.0|            2.0|         1.0|          1.0|          0.5|    62|          5120|            70|       405|          45|  Seed Pokémon|     63|          1059860|     1.0| 60| Fushigisouフシギソウ|   Ivysaur|           88.1|             2|       80|        80|   60|grass|poison|     13.0|         1|           0|\n",
      "|['Overgrow', 'Chl...|        1.0|         1.0|           1.0|             0.5|          0.5|          0.5|         2.0|           2.0|          1.0|         0.25|           1.0|        2.0|           1.0|           1.0|            2.0|         1.0|          1.0|          0.5|   100|          5120|            70|       625|          45|  Seed Pokémon|    123|          1059860|     2.0| 80|Fushigibanaフシギバナ|  Venusaur|           88.1|             3|      122|       120|   80|grass|poison|    100.0|         1|           0|\n",
      "|['Blaze', 'Solar ...|        0.5|         1.0|           1.0|             1.0|          0.5|          1.0|         0.5|           1.0|          1.0|          0.5|           2.0|        0.5|           1.0|           1.0|            1.0|         2.0|          0.5|          2.0|    52|          5120|            70|       309|          45|Lizard Pokémon|     43|          1059860|     0.6| 39|     Hitokageヒトカゲ|Charmander|           88.1|             4|       60|        50|   65| fire|  null|      8.5|         1|           0|\n",
      "|['Blaze', 'Solar ...|        0.5|         1.0|           1.0|             1.0|          0.5|          1.0|         0.5|           1.0|          1.0|          0.5|           2.0|        0.5|           1.0|           1.0|            1.0|         2.0|          0.5|          2.0|    64|          5120|            70|       405|          45| Flame Pokémon|     58|          1059860|     1.1| 58|      Lizardoリザード|Charmeleon|           88.1|             5|       80|        65|   80| fire|  null|     19.0|         1|           0|\n",
      "+--------------------+-----------+------------+--------------+----------------+-------------+-------------+------------+--------------+-------------+-------------+--------------+-----------+--------------+--------------+---------------+------------+-------------+-------------+------+--------------+--------------+----------+------------+--------------+-------+-----------------+--------+---+---------------------+----------+---------------+--------------+---------+----------+-----+-----+------+---------+----------+------------+\n",
      "only showing top 5 rows\n",
      "\n"
     ]
    }
   ],
   "source": [
    "df.show(5)"
   ]
  },
  {
   "cell_type": "code",
   "execution_count": 118,
   "id": "8d24c666",
   "metadata": {},
   "outputs": [
    {
     "data": {
      "text/plain": [
       "801"
      ]
     },
     "execution_count": 118,
     "metadata": {},
     "output_type": "execute_result"
    }
   ],
   "source": [
    "df.count()"
   ]
  },
  {
   "cell_type": "code",
   "execution_count": 119,
   "id": "0a3276d6",
   "metadata": {
    "scrolled": false
   },
   "outputs": [
    {
     "name": "stdout",
     "output_type": "stream",
     "text": [
      "+------+-------+\n",
      "|attack|defense|\n",
      "+------+-------+\n",
      "|    49|     49|\n",
      "|    62|     63|\n",
      "|   100|    123|\n",
      "|    52|     43|\n",
      "|    64|     58|\n",
      "+------+-------+\n",
      "only showing top 5 rows\n",
      "\n"
     ]
    }
   ],
   "source": [
    "df.select('attack', 'defense').show(5)"
   ]
  },
  {
   "cell_type": "code",
   "execution_count": 120,
   "id": "0cfabca2",
   "metadata": {
    "scrolled": true
   },
   "outputs": [
    {
     "name": "stdout",
     "output_type": "stream",
     "text": [
      "+-------+-----------------+\n",
      "|summary|           attack|\n",
      "+-------+-----------------+\n",
      "|  count|              801|\n",
      "|   mean|77.85767790262172|\n",
      "| stddev|32.15882023801748|\n",
      "|    min|                5|\n",
      "|    max|              185|\n",
      "+-------+-----------------+\n",
      "\n"
     ]
    }
   ],
   "source": [
    "df.describe('attack').show()"
   ]
  },
  {
   "cell_type": "code",
   "execution_count": 121,
   "id": "a32a61ec",
   "metadata": {},
   "outputs": [
    {
     "name": "stdout",
     "output_type": "stream",
     "text": [
      "+--------+-----+\n",
      "|   type1|count|\n",
      "+--------+-----+\n",
      "|   water|  114|\n",
      "|  normal|  105|\n",
      "|   grass|   78|\n",
      "|     bug|   72|\n",
      "| psychic|   53|\n",
      "|    fire|   52|\n",
      "|    rock|   45|\n",
      "|electric|   39|\n",
      "|  poison|   32|\n",
      "|  ground|   32|\n",
      "|    dark|   29|\n",
      "|fighting|   28|\n",
      "|  dragon|   27|\n",
      "|   ghost|   27|\n",
      "|   steel|   24|\n",
      "|     ice|   23|\n",
      "|   fairy|   18|\n",
      "|  flying|    3|\n",
      "+--------+-----+\n",
      "\n"
     ]
    }
   ],
   "source": [
    "# How many are there of each type?\n",
    "df.groupBy(\"type1\").count().sort(\"count\", ascending=False).show()"
   ]
  },
  {
   "cell_type": "markdown",
   "id": "bd18eb58",
   "metadata": {},
   "source": [
    "# Combine 2 columns (3)"
   ]
  },
  {
   "cell_type": "code",
   "execution_count": 122,
   "id": "683ffa82",
   "metadata": {
    "scrolled": false
   },
   "outputs": [
    {
     "name": "stdout",
     "output_type": "stream",
     "text": [
      "+--------------+-----+\n",
      "|     BothTypes|count|\n",
      "+--------------+-----+\n",
      "|          null|  384|\n",
      "| normal-flying|   26|\n",
      "|  grass-poison|   14|\n",
      "|    bug-flying|   13|\n",
      "|    bug-poison|   11|\n",
      "|  water-ground|    9|\n",
      "|  water-flying|    7|\n",
      "|    rock-water|    6|\n",
      "|psychic-flying|    6|\n",
      "| steel-psychic|    6|\n",
      "| fire-fighting|    6|\n",
      "|  grass-flying|    6|\n",
      "|   fire-flying|    6|\n",
      "|   rock-ground|    6|\n",
      "|     bug-grass|    6|\n",
      "| psychic-fairy|    6|\n",
      "|   grass-fairy|    5|\n",
      "| water-psychic|    5|\n",
      "|   dark-flying|    5|\n",
      "|   ghost-grass|    5|\n",
      "+--------------+-----+\n",
      "only showing top 20 rows\n",
      "\n"
     ]
    }
   ],
   "source": [
    "# Combine the columns and see how many BothTypes there are\n",
    "df = df.withColumn(\"BothTypes\",concat(col(\"type1\"), lit('-'), col(\"type2\")))\n",
    "df.groupBy(\"BothTypes\").count().sort(\"count\", ascending=False).show()"
   ]
  },
  {
   "cell_type": "code",
   "execution_count": 123,
   "id": "2c800a27",
   "metadata": {},
   "outputs": [],
   "source": [
    "# Then there come a lot of missing values"
   ]
  },
  {
   "cell_type": "code",
   "execution_count": 124,
   "id": "20df2989",
   "metadata": {},
   "outputs": [
    {
     "name": "stdout",
     "output_type": "stream",
     "text": [
      "+----------------+---+---+---+---+---+---+---+\n",
      "|type1_generation|  1|  2|  3|  4|  5|  6|  7|\n",
      "+----------------+---+---+---+---+---+---+---+\n",
      "|             bug| 12| 10| 12|  8| 18|  3|  9|\n",
      "|            dark|  0|  5|  4|  3| 13|  3|  1|\n",
      "|          dragon|  3|  0|  7|  3|  7|  4|  3|\n",
      "|        electric|  9|  6|  4|  7|  7|  3|  3|\n",
      "|           fairy|  2|  5|  0|  1|  0|  9|  1|\n",
      "|        fighting|  7|  2|  4|  2|  7|  3|  3|\n",
      "|            fire| 12|  8|  6|  5|  8|  8|  5|\n",
      "|          flying|  0|  0|  0|  0|  1|  2|  0|\n",
      "|           ghost|  3|  1|  4|  6|  5|  4|  4|\n",
      "|           grass| 12|  9| 12| 13| 15|  5| 12|\n",
      "|          ground|  8|  3|  6|  4|  9|  0|  2|\n",
      "|             ice|  2|  4|  6|  3|  6|  2|  0|\n",
      "|          normal| 22| 15| 18| 17| 17|  4| 12|\n",
      "|          poison| 14|  1|  3|  6|  2|  2|  4|\n",
      "|         psychic|  8|  7|  8|  7| 14|  3|  6|\n",
      "|            rock|  9|  4|  8|  6|  6|  8|  4|\n",
      "|           steel|  0|  2|  9|  3|  4|  4|  2|\n",
      "|           water| 28| 18| 24| 13| 17|  5|  9|\n",
      "+----------------+---+---+---+---+---+---+---+\n",
      "\n"
     ]
    }
   ],
   "source": [
    "# Are there more or less types of each each generation\n",
    "df.crosstab('type1', 'generation').sort('type1_generation').show()"
   ]
  },
  {
   "cell_type": "code",
   "execution_count": 125,
   "id": "7ab321de",
   "metadata": {
    "scrolled": false
   },
   "outputs": [
    {
     "name": "stdout",
     "output_type": "stream",
     "text": [
      "+--------+------------------+\n",
      "|   type1|       avg(attack)|\n",
      "+--------+------------------+\n",
      "|  dragon| 106.4074074074074|\n",
      "|fighting| 99.17857142857143|\n",
      "|  ground|           94.8125|\n",
      "|   steel| 93.08333333333333|\n",
      "|    rock| 90.66666666666667|\n",
      "|    dark| 87.79310344827586|\n",
      "|    fire|              81.5|\n",
      "|  normal| 75.16190476190476|\n",
      "|   grass| 73.76923076923077|\n",
      "|   water| 73.30701754385964|\n",
      "|     ice| 73.30434782608695|\n",
      "|   ghost| 72.74074074074075|\n",
      "|  poison|          72.65625|\n",
      "|electric| 70.82051282051282|\n",
      "|     bug|            70.125|\n",
      "|  flying| 66.66666666666667|\n",
      "| psychic| 65.56603773584905|\n",
      "|   fairy|62.111111111111114|\n",
      "+--------+------------------+\n",
      "\n"
     ]
    }
   ],
   "source": [
    "# Does the avg attack depend on the type of Pokemon\n",
    "df.groupby('type1').agg({'attack': 'mean'}).sort('avg(attack)', ascending=False).show()"
   ]
  },
  {
   "cell_type": "markdown",
   "id": "fb6ad8c5",
   "metadata": {},
   "source": [
    "# Add a column based on another column(4)"
   ]
  },
  {
   "cell_type": "code",
   "execution_count": 126,
   "id": "7cb97282",
   "metadata": {},
   "outputs": [],
   "source": [
    "# Add attack and special attack\n",
    "df = df.withColumn(\"full_attack\", col(\"attack\") + col('sp_attack'))"
   ]
  },
  {
   "cell_type": "code",
   "execution_count": 127,
   "id": "68240d05",
   "metadata": {},
   "outputs": [
    {
     "name": "stdout",
     "output_type": "stream",
     "text": [
      "+------+---------+-----------+\n",
      "|attack|sp_attack|full_attack|\n",
      "+------+---------+-----------+\n",
      "|    49|       65|        114|\n",
      "|    62|       80|        142|\n",
      "|   100|      122|        222|\n",
      "|    52|       60|        112|\n",
      "|    64|       80|        144|\n",
      "+------+---------+-----------+\n",
      "only showing top 5 rows\n",
      "\n"
     ]
    }
   ],
   "source": [
    "df.select('attack', 'sp_attack', 'full_attack').show(5)"
   ]
  },
  {
   "cell_type": "code",
   "execution_count": 129,
   "id": "4889ce57",
   "metadata": {
    "scrolled": true
   },
   "outputs": [
    {
     "name": "stdout",
     "output_type": "stream",
     "text": [
      "+--------+------------------+\n",
      "|   type1|  avg(full_attack)|\n",
      "+--------+------------------+\n",
      "|  dragon|             196.0|\n",
      "|    fire|169.23076923076923|\n",
      "|   steel|165.79166666666666|\n",
      "|    dark|162.31034482758622|\n",
      "|electric|158.35897435897436|\n",
      "| psychic|158.16981132075472|\n",
      "|   ghost| 155.1851851851852|\n",
      "|    rock|153.86666666666667|\n",
      "|     ice| 150.7391304347826|\n",
      "|  flying|150.66666666666666|\n",
      "|fighting|149.28571428571428|\n",
      "|   grass| 148.0897435897436|\n",
      "|   water| 147.3684210526316|\n",
      "|  ground|            146.75|\n",
      "|   fairy|143.61111111111111|\n",
      "|  poison|         134.21875|\n",
      "|  normal|132.14285714285714|\n",
      "|     bug|126.77777777777777|\n",
      "+--------+------------------+\n",
      "\n"
     ]
    }
   ],
   "source": [
    "# Look if the results are still the same does the type depend on the full attack\n",
    "df.groupby('type1').agg({'full_attack': 'mean'}).sort('avg(full_attack)', ascending=False).show()"
   ]
  },
  {
   "cell_type": "markdown",
   "id": "d120787b",
   "metadata": {},
   "source": [
    "# Remove full attack <= 100 and missing values (5)"
   ]
  },
  {
   "cell_type": "code",
   "execution_count": 130,
   "id": "4ea12501-fac2-425c-9ccd-abce01bba934",
   "metadata": {},
   "outputs": [],
   "source": [
    "new_df = df.filter(df.full_attack > 100).na.drop()"
   ]
  },
  {
   "cell_type": "code",
   "execution_count": 131,
   "id": "68cf04db-0fd9-4216-8ba7-c69f883bb3bd",
   "metadata": {},
   "outputs": [
    {
     "name": "stdout",
     "output_type": "stream",
     "text": [
      "+-------+------------------+------------------+-----------------+\n",
      "|summary|       full_attack|            attack|        sp_attack|\n",
      "+-------+------------------+------------------+-----------------+\n",
      "|  count|               274|               274|              274|\n",
      "|   mean|164.45985401459853| 86.44525547445255|78.01459854014598|\n",
      "| stddev| 41.70373699201894|29.023905697702805|28.94987088394722|\n",
      "|    min|               102|                30|               15|\n",
      "|    max|               300|               185|              170|\n",
      "+-------+------------------+------------------+-----------------+\n",
      "\n"
     ]
    }
   ],
   "source": [
    "new_df.select('full_attack','attack','sp_attack').describe().show()"
   ]
  },
  {
   "cell_type": "code",
   "execution_count": 132,
   "id": "3c6615fa-9489-4673-bce4-cee2b1530413",
   "metadata": {},
   "outputs": [
    {
     "name": "stdout",
     "output_type": "stream",
     "text": [
      "+-----------+\n",
      "|full_attack|\n",
      "+-----------+\n",
      "|        114|\n",
      "|        142|\n",
      "|        222|\n",
      "|        263|\n",
      "|        135|\n",
      "|        165|\n",
      "|        110|\n",
      "|        215|\n",
      "|        151|\n",
      "|        167|\n",
      "+-----------+\n",
      "only showing top 10 rows\n",
      "\n"
     ]
    }
   ],
   "source": [
    "new_df.select('full_attack').show(10)"
   ]
  },
  {
   "cell_type": "markdown",
   "id": "9e460f09",
   "metadata": {},
   "source": [
    "# Question (6): Based on some statistics (attack defence, sp attack , sp defence , height, hp, speed, weight) can you predict type?"
   ]
  },
  {
   "cell_type": "code",
   "execution_count": 133,
   "id": "e7eff2fc",
   "metadata": {},
   "outputs": [],
   "source": [
    "sc.stop()"
   ]
  },
  {
   "cell_type": "code",
   "execution_count": null,
   "id": "e412b7f3",
   "metadata": {},
   "outputs": [],
   "source": []
  }
 ],
 "metadata": {
  "kernelspec": {
   "display_name": "Python 3",
   "language": "python",
   "name": "python3"
  },
  "language_info": {
   "codemirror_mode": {
    "name": "ipython",
    "version": 3
   },
   "file_extension": ".py",
   "mimetype": "text/x-python",
   "name": "python",
   "nbconvert_exporter": "python",
   "pygments_lexer": "ipython3",
   "version": "3.7.7"
  }
 },
 "nbformat": 4,
 "nbformat_minor": 5
}
